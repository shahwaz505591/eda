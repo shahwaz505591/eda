{
 "cells": [
  {
   "cell_type": "code",
   "execution_count": null,
   "id": "7227bbac-8d2d-47cf-80ff-59c4b6898e95",
   "metadata": {},
   "outputs": [],
   "source": [
    "Q1. Load the dataset and examine its dimensions.\n",
    "\n",
    "df.loaddataset(flight)\n",
    "\n",
    "Use a programming language like Python or R to load the dataset and check the number of rows and columns.\n",
    "Q2. Distribution of Flight Prices.\n",
    "\n",
    "Create a histogram to visualize the distribution of flight prices.\n",
    "Q3. Range of Prices.\n",
    "\n",
    "Identify the minimum and maximum prices to understand the range.\n",
    "Q4. Flight Prices by Airline.\n",
    "\n",
    "Create a boxplot to compare prices across different airlines.\n",
    "Q5. Identify Outliers.\n",
    "\n",
    "Use a boxplot to identify potential outliers and describe their impact on the analysis.\n",
    "Q6. Identify Peak Travel Season.\n",
    "\n",
    "Analyze features like departure date, month, or season to identify patterns in peak travel times.\n",
    "Q7. Trends in Flight Prices.\n",
    "\n",
    "Analyze trends over time using features like date or month. Visualize using line charts or time series plots.\n",
    "Q8. Factors Affecting Flight Prices.\n",
    "\n",
    "Analyze features such as airline, time of booking, and day of the week. Use regression analysis to identify significant factors.\n",
    "Google Playstore Dataset:\n",
    "Q9. Load the dataset and examine its dimensions.\n",
    "\n",
    "Use a programming language to load the Google Playstore dataset and check its dimensions.\n",
    "Q10. Rating Variation by Category.\n",
    "\n",
    "Create a boxplot to compare app ratings across different categories.\n",
    "Q11. Missing Values.\n",
    "\n",
    "Identify and handle missing values, considering their impact on the analysis.\n",
    "Q12. Relationship Between App Size and Rating.\n",
    "\n",
    "Create a scatter plot to visualize the relationship between app size and rating.\n",
    "Q13. App Type and Price.\n",
    "\n",
    "Create a bar chart to compare average prices by app type.\n",
    "Q14. Top 10 Most Popular Apps.\n",
    "\n",
    "Create a frequency table or use the \"Installs\" column to identify the top 10 most popular apps.\n",
    "Q15. Identify Popular App Categories.\n",
    "\n",
    "Analyze the number of installs or user ratings by category to recommend popular app categories."
   ]
  }
 ],
 "metadata": {
  "kernelspec": {
   "display_name": "Python 3 (ipykernel)",
   "language": "python",
   "name": "python3"
  },
  "language_info": {
   "codemirror_mode": {
    "name": "ipython",
    "version": 3
   },
   "file_extension": ".py",
   "mimetype": "text/x-python",
   "name": "python",
   "nbconvert_exporter": "python",
   "pygments_lexer": "ipython3",
   "version": "3.10.8"
  }
 },
 "nbformat": 4,
 "nbformat_minor": 5
}
